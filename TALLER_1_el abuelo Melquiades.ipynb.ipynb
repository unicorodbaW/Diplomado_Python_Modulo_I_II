{
 "cells": [
  {
   "cell_type": "code",
   "execution_count": null,
   "id": "84af538d",
   "metadata": {},
   "outputs": [],
   "source": [
    "## SOLUCION AL TALLER 1\n",
    "## Diplomado Python Aplicado a la Ingenieria \n",
    "\n",
    "- Autor: Wendy Paola Mendoza Barrera\n",
    "- ID: 000502216\n",
    "- Email: wendy.mendozab@upb.edu.co\n",
    "    \n",
    " Para realizar este ejercicio se realizo lo siguiente: \n",
    "    \n",
    "    - importar la libreria random para asi elegir un indices entre o y 2 aleatorio dentro de la lista\n",
    "    - se le pide al usuario por teclado el nombre del artista de tipo string\n",
    "    - luego se llena las diferentes lista de melodias con partes y fraciones de palabra usada para formar un regueton final \n",
    "    - luego usamos la libreria random para que este selecione aleatoriamente las frases de las lista (indicandoles el nombre de la lista y rango de indice que esta compuesta cada lista),luego esta se almacene en una variable llamada regueton\n",
    "    - luego se declara una variable auxiliar  donde se almacenara la cancion final selecionada \n",
    "    - mediante un for realizamos el recorido para que almacene el regueton en la variable cancion  \n",
    "    - al final concadenamos la variable cancion con regueton final y asi obtener el regueton de salida. para asi llamar la variable final mediante un print."
   ]
  },
  {
   "cell_type": "code",
   "execution_count": null,
   "id": "a06f436b",
   "metadata": {},
   "outputs": [],
   "source": [
    "import random\n",
    "\n",
    "print(\"ARMA TU REGUETON COMO EL ABUELO MELQUIADES\")\n",
    "\n",
    "nombre_artista=input(\"Ingrese el nombre de su Artista: \")\n",
    "\n",
    "melodia1 = [\"Bebesita\",\"Mamasita\",\"Princesita\"]\n",
    "melodia2 = [\"voy a\",\"yo quiero \",\"vamos a\"]\n",
    "melodia3 = [\"castigarte\",\"encenderte\",\"amalte\"]\n",
    "melodia4 = [\"suave\",\"lento\",\"fuerte\"]\n",
    "melodia5 = [\"Hasta mañana\",\"todo el dia\",\"hasta perder el control\"]\n",
    "melodia6 = [\"sin miedo\",\"contra la pared \",\"sin compromiso\"]\n",
    "melodia7 = [\"de corazon te lo dice\",\"ya tu sabes quien soy yo... \",\"te lo dice \"]\n",
    "melodia8 = [\"nunca me olvides..\",\"bey bey.. \",\"de corazon... \"]\n",
    "\n",
    "regueton = [melodia1[random.randint(0,2)], melodia2[random.randint(0,2)], melodia3[random.randint(0,2)], melodia4[random.randint(0,2)],\n",
    "          melodia5[random.randint(0,2)], melodia5[random.randint(0,2)], melodia6[random.randint(0,2)], melodia7[random.randint(0,2)],\n",
    "          nombre_artista, melodia8[random.randint(0,2)]]\n",
    "\n",
    "Regueton_Final = \"\"\n",
    " \n",
    "for cancion in regueton:\n",
    "    \n",
    "    Regueton_Final += cancion + \" \"\n",
    "    \n",
    "print()\n",
    "    \n",
    "print(\"TU REGUETON SELECIONADO ES: \")\n",
    "\n",
    "print()\n",
    "    \n",
    "print(Regueton_Final)  \n",
    "  \n"
   ]
  }
 ],
 "metadata": {
  "kernelspec": {
   "display_name": "Python 3 (ipykernel)",
   "language": "python",
   "name": "python3"
  },
  "language_info": {
   "codemirror_mode": {
    "name": "ipython",
    "version": 3
   },
   "file_extension": ".py",
   "mimetype": "text/x-python",
   "name": "python",
   "nbconvert_exporter": "python",
   "pygments_lexer": "ipython3",
   "version": "3.9.12"
  }
 },
 "nbformat": 4,
 "nbformat_minor": 5
}
