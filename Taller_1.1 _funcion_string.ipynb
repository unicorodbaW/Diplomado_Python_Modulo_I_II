{
 "cells": [
  {
   "cell_type": "code",
   "execution_count": 38,
   "id": "17ab7fd3",
   "metadata": {},
   "outputs": [
    {
     "name": "stdout",
     "output_type": "stream",
     "text": [
      "Arma Tu Regeeton Como El Abuelo Melequides \n",
      "\n",
      "Ingrese el Nombre de su Artista: luisa\n",
      "Eres Mi Princesita voy a amalte suave Hasta mañana todo el dia sin miedo de corazon te lo dice luisa de corazon... \n",
      "\n",
      "Eres Mi Princesita-voy a-amalte-suave-Hasta mañana-todo el dia-sin miedo-de corazon te lo dice-luisa-de corazon... \n",
      "\n",
      "-----Eres Mi Princesita-----\n",
      "-----voy a-----\n",
      "-----amalte-----\n",
      "-----suave-----\n",
      "-----Hasta mañana-----\n",
      "-----todo el dia-----\n",
      "-----sin miedo-----\n",
      "-----de corazon te lo dice-----\n",
      "-----luisa-----\n",
      "-----de corazon... -----\n",
      "e\n",
      "o\n",
      "a\n",
      "o\n"
     ]
    }
   ],
   "source": [
    "import random\n",
    "\n",
    "print(\"Arma Tu Regeeton Como El Abuelo Melequides \\n\")\n",
    "\n",
    "nombre_artista = input(\"Ingrese el Nombre de su Artista: \")\n",
    "\n",
    "melodia1 = [\"Bebesita\",\"Mamasita\",\"Eres Mi Princesita\"]\n",
    "melodia2 = [\"voy a\",\"yo quiero \",\"vamos a\"]\n",
    "melodia3 = [\"castigarte\",\"encenderte\",\"amalte\"]\n",
    "melodia4 = [\"suave\",\"lento\",\"fuerte\"]\n",
    "melodia5 = [\"Hasta mañana\",\"todo el dia\",\"hasta perder el control\"]\n",
    "melodia6 = [\"sin miedo\",\"contra la pared \",\"sin compromiso\"]\n",
    "melodia7 = [\"de corazon te lo dice\",\"ya tu sabes quien soy yo... \",\"te lo dice \"]\n",
    "melodia8 = [\"nunca me olvides Bey Bi..\",\"como te quiero mi Amor..\",\"de corazon... \"]\n",
    "\n",
    "Regeeton = [melodia1[random.randint(0,2)], melodia2[random.randint(0,2)], melodia3[random.randint(0,2)], melodia4[random.randint(0,2)],\n",
    "          melodia5[random.randint(0,2)], melodia5[random.randint(0,2)], melodia6[random.randint(0,2)], melodia7[random.randint(0,2)],\n",
    "          nombre_artista, melodia8[random.randint(0,2)]]\n",
    "\n",
    "def arma_tu_regeeton(regge,separador=' '):\n",
    "    cancion = separador.join(regge)  \n",
    "    return cancion\n",
    "\n",
    "\n",
    "def arma_reggeton(): # localizar vocales abierta de la cancion #\n",
    "\n",
    "    for cadena in Regeeton:\n",
    "   \n",
    "        print(\"-----\"+cadena+\"-----\")\n",
    "        \n",
    "    for caracter in cadena:\n",
    "    \n",
    "        Mini=caracter.lower()\n",
    "        if Mini in \"aeoáéó\":\n",
    "            print(Mini)\n",
    "    \n",
    "\n",
    "print(arma_tu_regeeton(Regeeton)) \n",
    "print()\n",
    "print(arma_tu_regeeton(Regeeton,\"-\"))\n",
    "print()\n",
    "arma_reggeton() \n",
    "\n",
    "\n",
    "\n",
    "\n",
    "    \n"
   ]
  },
  {
   "cell_type": "code",
   "execution_count": null,
   "id": "026765e7",
   "metadata": {},
   "outputs": [],
   "source": []
  },
  {
   "cell_type": "code",
   "execution_count": null,
   "id": "591fc418",
   "metadata": {},
   "outputs": [],
   "source": []
  }
 ],
 "metadata": {
  "kernelspec": {
   "display_name": "Python 3 (ipykernel)",
   "language": "python",
   "name": "python3"
  },
  "language_info": {
   "codemirror_mode": {
    "name": "ipython",
    "version": 3
   },
   "file_extension": ".py",
   "mimetype": "text/x-python",
   "name": "python",
   "nbconvert_exporter": "python",
   "pygments_lexer": "ipython3",
   "version": "3.9.12"
  }
 },
 "nbformat": 4,
 "nbformat_minor": 5
}
